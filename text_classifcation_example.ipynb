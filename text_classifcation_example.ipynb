{
 "cells": [
  {
   "cell_type": "code",
   "execution_count": 1,
   "id": "1d15d68b-6920-4f0b-a6e1-6b7ee2931fef",
   "metadata": {},
   "outputs": [
    {
     "data": {
      "text/plain": [
       "'\\nText classification example\\nSupervised learning example using discrete word representations and classification model\\n'"
      ]
     },
     "execution_count": 1,
     "metadata": {},
     "output_type": "execute_result"
    }
   ],
   "source": [
    "'''\n",
    "Text classification example\n",
    "Supervised learning example using discrete word representations and classification model\n",
    "'''"
   ]
  },
  {
   "cell_type": "code",
   "execution_count": 61,
   "id": "a304923c-be47-41b1-8313-280483ad32dd",
   "metadata": {},
   "outputs": [],
   "source": [
    "'''\n",
    "Import modules\n",
    "'''\n",
    "from pathlib import Path\n",
    "import pandas as pd\n",
    "import os\n",
    "from tqdm import tqdm\n",
    "import seaborn as sns\n",
    "import matplotlib.pyplot as plt\n",
    "import numpy as np\n",
    "\n",
    "from sklearn.feature_extraction.text import TfidfVectorizer\n",
    "from sklearn.ensemble import RandomForestClassifier\n",
    "from sklearn.metrics import f1_score\n",
    "from sklearn.metrics import accuracy_score\n",
    "from sklearn.metrics import classification_report\n",
    "from sklearn.model_selection import RandomizedSearchCV\n",
    "from sklearn.linear_model import LogisticRegression"
   ]
  },
  {
   "cell_type": "code",
   "execution_count": 4,
   "id": "e87f1d9b-4c34-4e8c-9b0c-7f57c17b360f",
   "metadata": {},
   "outputs": [],
   "source": [
    "'''\n",
    "Data\n",
    "'''\n",
    "\n",
    "# Data link\n",
    "# https://ai.stanford.edu/~amaas/data/sentiment/?utm_source=www.tensorflow.org&utm_medium=referral\n",
    "\n",
    "# Paper associated with data\n",
    "# https://ai.stanford.edu/~amaas/papers/wvSent_acl2011.pdf\n",
    "\n",
    "# Data paths\n",
    "data_dir = 'data/aclImdb'\n",
    "data_file = 'data.csv'"
   ]
  },
  {
   "cell_type": "code",
   "execution_count": 5,
   "id": "cfc10d28-0ff8-4766-955d-a907e8076c55",
   "metadata": {},
   "outputs": [
    {
     "name": "stderr",
     "output_type": "stream",
     "text": [
      "Import: data/aclImdb/train/pos: 100%|███| 12500/12500 [00:01<00:00, 7607.97it/s]\n",
      "Import: data/aclImdb/train/neg: 100%|███| 12500/12500 [00:01<00:00, 7303.91it/s]\n",
      "Import: data/aclImdb/train/pos: 100%|██| 12500/12500 [00:00<00:00, 54965.80it/s]\n",
      "Import: data/aclImdb/train/neg: 100%|██| 12500/12500 [00:00<00:00, 56133.02it/s]\n"
     ]
    },
    {
     "name": "stdout",
     "output_type": "stream",
     "text": [
      "  subset  label  count\n",
      "0  train      1  12500\n",
      "1  train      0  12500\n",
      "2   test      1  12500\n",
      "3   test      0  12500\n",
      "      subset  label                                file  \\\n",
      "0      train      1   data/aclImdb/train/pos/4715_9.txt   \n",
      "1      train      1  data/aclImdb/train/pos/12390_8.txt   \n",
      "2      train      1   data/aclImdb/train/pos/8329_7.txt   \n",
      "3      train      1   data/aclImdb/train/pos/9063_8.txt   \n",
      "4      train      1  data/aclImdb/train/pos/3092_10.txt   \n",
      "...      ...    ...                                 ...   \n",
      "49995   test      0   data/aclImdb/train/neg/3307_3.txt   \n",
      "49996   test      0   data/aclImdb/train/neg/2240_4.txt   \n",
      "49997   test      0  data/aclImdb/train/neg/11556_1.txt   \n",
      "49998   test      0   data/aclImdb/train/neg/4617_3.txt   \n",
      "49999   test      0   data/aclImdb/train/neg/9788_3.txt   \n",
      "\n",
      "                                                    text  \n",
      "0      For a movie that gets no respect there sure ar...  \n",
      "1      Bizarre horror movie filled with famous faces ...  \n",
      "2      A solid, if unremarkable film. Matthau, as Ein...  \n",
      "3      It's a strange feeling to sit alone in a theat...  \n",
      "4      You probably all already know this by now, but...  \n",
      "...                                                  ...  \n",
      "49995  My comments may be a bit of a spoiler, for wha...  \n",
      "49996  The \"saucy\" misadventures of four au pairs who...  \n",
      "49997  Oh, those Italians! Assuming that movies about...  \n",
      "49998  Eight academy nominations? It's beyond belief....  \n",
      "49999  Not that I dislike childrens movies, but this ...  \n",
      "\n",
      "[50000 rows x 4 columns]\n"
     ]
    }
   ],
   "source": [
    "'''\n",
    "Data import\n",
    "'''\n",
    "\n",
    "# Directories with data in separate files\n",
    "train_dir = os.path.join(data_dir, 'train')\n",
    "test_dir = os.path.join(data_dir, 'test')\n",
    "\n",
    "train_pos_dir = os.path.join(train_dir, 'pos')\n",
    "train_neg_dir = os.path.join(train_dir, 'neg')\n",
    "\n",
    "test_pos_dir = os.path.join(test_dir, 'pos')\n",
    "test_neg_dir = os.path.join(test_dir, 'neg')\n",
    "\n",
    "dirs = [('train', 1, train_pos_dir),\n",
    "        ('train', 0, train_neg_dir),\n",
    "        ('test', 1, train_pos_dir),\n",
    "        ('test', 0, train_neg_dir),]\n",
    "\n",
    "# Iterate over directories, finding applicable data files\n",
    "data = []\n",
    "summary = []\n",
    "for subset, label, dir_ in dirs:\n",
    "    \n",
    "    # Recursively finds all text files\n",
    "    fns = list(Path(dir_).glob(f\"**/*.txt\"))\n",
    "\n",
    "    d = dict(subset=subset, label=label, count=len(fns))\n",
    "    summary.append(d)\n",
    "    \n",
    "    # Read all text files\n",
    "    pbar = tqdm(total=len(fns), desc=f'Import: {dir_}')\n",
    "    for fn in fns:\n",
    "        with open(fn, 'r') as f:\n",
    "            text = f.read()\n",
    "        \n",
    "        # Add text file contents to corpus\n",
    "        d = dict(subset=subset, label=label, file=fn, text=text)\n",
    "        data.append(d)\n",
    "        pbar.update(1)\n",
    "\n",
    "    pbar.close()        \n",
    "\n",
    "# Convert loaded data to data frame\n",
    "df_summary = pd.DataFrame(summary)\n",
    "df_data = pd.DataFrame(data)\n",
    "\n",
    "print(df_summary)\n",
    "print(df_data)\n",
    "\n",
    "# Save data\n",
    "df_data.to_csv(data_file, index=False)"
   ]
  },
  {
   "cell_type": "code",
   "execution_count": 7,
   "id": "ef2212ca-eb1d-419f-bed3-de634bcc06db",
   "metadata": {},
   "outputs": [
    {
     "name": "stdout",
     "output_type": "stream",
     "text": [
      "      subset  label                                file  \\\n",
      "0      train      1   data/aclImdb/train/pos/4715_9.txt   \n",
      "1      train      1  data/aclImdb/train/pos/12390_8.txt   \n",
      "2      train      1   data/aclImdb/train/pos/8329_7.txt   \n",
      "3      train      1   data/aclImdb/train/pos/9063_8.txt   \n",
      "4      train      1  data/aclImdb/train/pos/3092_10.txt   \n",
      "...      ...    ...                                 ...   \n",
      "49995   test      0   data/aclImdb/train/neg/3307_3.txt   \n",
      "49996   test      0   data/aclImdb/train/neg/2240_4.txt   \n",
      "49997   test      0  data/aclImdb/train/neg/11556_1.txt   \n",
      "49998   test      0   data/aclImdb/train/neg/4617_3.txt   \n",
      "49999   test      0   data/aclImdb/train/neg/9788_3.txt   \n",
      "\n",
      "                                                    text  \n",
      "0      For a movie that gets no respect there sure ar...  \n",
      "1      Bizarre horror movie filled with famous faces ...  \n",
      "2      A solid, if unremarkable film. Matthau, as Ein...  \n",
      "3      It's a strange feeling to sit alone in a theat...  \n",
      "4      You probably all already know this by now, but...  \n",
      "...                                                  ...  \n",
      "49995  My comments may be a bit of a spoiler, for wha...  \n",
      "49996  The \"saucy\" misadventures of four au pairs who...  \n",
      "49997  Oh, those Italians! Assuming that movies about...  \n",
      "49998  Eight academy nominations? It's beyond belief....  \n",
      "49999  Not that I dislike childrens movies, but this ...  \n",
      "\n",
      "[50000 rows x 4 columns]\n"
     ]
    }
   ],
   "source": [
    "# Read data file\n",
    "df = pd.read_csv(data_file)\n",
    "print(df)"
   ]
  },
  {
   "cell_type": "code",
   "execution_count": 8,
   "id": "d1346259-ce9e-4e08-988e-218bbb71bd0c",
   "metadata": {},
   "outputs": [
    {
     "name": "stdout",
     "output_type": "stream",
     "text": [
      "Training samples:   20000\n",
      "Validation samples: 5000\n",
      "Test samples:       25000\n"
     ]
    }
   ],
   "source": [
    "'''\n",
    "Data splits – train, validation, and test \n",
    "'''\n",
    "# Get training data and split into train and validation partitions\n",
    "df_train_valid = df[df['subset'] == 'train']\n",
    "df_train = df_train_valid.sample(frac = 0.80, random_state=1)\n",
    "df_valid = df_train_valid.drop(df_train.index)\n",
    "df_train = df_train.reset_index()\n",
    "df_valid = df_valid.reset_index()\n",
    "\n",
    "# DESIGN DECIONS\n",
    "# Portion of training set to use as validation, 'frac = 0.80', Is a design choice in this case\n",
    "# Splitting of original train set into train and validation subsets will influence performance. \n",
    "# To maintain consistency across experimentation, fixing the random seed (random_state) is important.\n",
    "\n",
    "# Get testing data\n",
    "df_test = df[df['subset']  == 'test']\n",
    "\n",
    "print(f'Training samples:   {len(df_train)}')\n",
    "print(f'Validation samples: {len(df_valid)}')\n",
    "print(f'Test samples:       {len(df_test)}')"
   ]
  },
  {
   "cell_type": "code",
   "execution_count": 45,
   "id": "53505d5b-9d2e-4408-a9ed-590813eb3b24",
   "metadata": {},
   "outputs": [
    {
     "name": "stdout",
     "output_type": "stream",
     "text": [
      "Training data examples:\n",
      "0: y=0, X=Hubert Selby Jr. gave us the book \"Requiem For A Dream\" and co-wrote the screenplay to Aronofsky's m...\n",
      "1: y=1, X=There are very few performers today who can keep me captivated throughout an entire film just by the...\n",
      "2: y=0, X=C'mon guys some previous reviewers have nearly written a novel commenting on this episode. It's just...\n",
      "3: y=0, X=The movie has several story lines that follow several different characters. The different story line...\n",
      "4: y=1, X=don't mind the soundtrack, which is played out by now.<br /><br />Still, Debra Winger is always inte...\n",
      "5: y=1, X=Just as the new BSG wasn't what fans of the original series were expecting, Caprica may not deliver ...\n",
      "6: y=0, X=Well done Al Gore! You have become the first person to have made 1 Billion dollars of the global war...\n",
      "7: y=0, X=I ve finished seeing the movie 10 minutes ago..WoW i still cant believe what i've watched.<br /><br ...\n",
      "8: y=0, X=Maybe you shouldn't compare, but Wild Style and Style Wars are original Hip Hop. Beat Street does ha...\n",
      "9: y=1, X=This series, produced at probably the most propitious time following the events of the second World ...\n"
     ]
    }
   ],
   "source": [
    "'''\n",
    "Create variables with observations, X (text), and labels, y\n",
    "'''\n",
    "\n",
    "# Training data \n",
    "X_train, y_train = df_train['text'], df_train['label']\n",
    "\n",
    "# Validation data\n",
    "X_valid, y_valid = df_valid['text'], df_valid['label']\n",
    "\n",
    "# Testing data \n",
    "X_test, y_test =  df_test['text'],  df_test['label']\n",
    "\n",
    "print('Training data examples:')\n",
    "for i in range(10):\n",
    "    print(f'{i}: y={y_train[i]}, X={X_train[i][:100]}...')\n",
    "    "
   ]
  },
  {
   "cell_type": "code",
   "execution_count": 46,
   "id": "1c24dbf7-1dd1-4f9d-b7fd-ce592fa52523",
   "metadata": {},
   "outputs": [
    {
     "name": "stdout",
     "output_type": "stream",
     "text": [
      "vectorizer: TfidfVectorizer(min_df=10, stop_words='english')\n",
      "\n",
      "Features, first K: \n",
      "['00' '000' '01' '02' '06' '07' '10' '100' '1000' '101' '102' '10th' '11'\n",
      " '110' '11th' '12' '120' '12th' '13' '13th' '14' '140' '14th' '15' '150'\n",
      " '16' '16mm' '17' '17th' '18' '180' '1800' '1800s' '18th' '19' '1912'\n",
      " '1914' '1915' '1920' '1920s' '1922' '1924' '1925' '1928' '1929' '1930'\n",
      " '1930s' '1931' '1932' '1933' '1934' '1935' '1936' '1937' '1938' '1939'\n",
      " '1940' '1940s' '1941' '1942' '1943' '1944' '1945' '1946' '1947' '1948'\n",
      " '1949' '1950' '1950s' '1951' '1952' '1953' '1954' '1955' '1956' '1957'\n",
      " '1958' '1959' '1960' '1960s' '1961' '1962' '1963' '1964' '1965' '1966'\n",
      " '1967' '1968' '1969' '1970' '1970s' '1971' '1972' '1973' '1974' '1975'\n",
      " '1976' '1977' '1978' '1979' '1980' '1980s' '1981' '1982' '1983' '1984'\n",
      " '1985' '1986' '1987' '1988' '1989' '1990' '1990s' '1991' '1992' '1993'\n",
      " '1994' '1995' '1996' '1997' '1998' '1999' '19th' '1st' '20' '200' '2000'\n",
      " '2001' '2002' '2003' '2004' '2005' '2006' '2007' '2008' '2009' '2010'\n",
      " '20s' '20th' '21' '21st' '22' '23' '24' '25' '250' '26' '27' '28' '29'\n",
      " '2d' '2nd' '30' '300' '3000' '30s' '31' '32' '33' '34' '35' '35mm' '36'\n",
      " '360' '37' '39' '3d' '3rd' '40' '400' '40s' '42' '42nd' '43' '44' '45'\n",
      " '47' '48' '49' '4th' '50' '500' '50s' '51' '52' '53' '54' '55' '56' '57'\n",
      " '58' '5th' '60' '600' '60s' '64' '65' '66' '68' '6th' '70' '700' '70s'\n",
      " '71' '72' '73' '74' '747' '75' '750' '76' '77' '78' '79' '7th' '80' '80s'\n",
      " '81' '82' '83' '84' '85' '86' '87' '88' '89' '8mm' '8th' '90' '90210'\n",
      " '90s' '911' '93' '94' '95' '96' '97' '98' '99' 'aag' 'aaron' 'abandon'\n",
      " 'abandoned' 'abandoning' 'abandonment' 'abandons' 'abbot' 'abbott' 'abc'\n",
      " 'abducted' 'abduction' 'abe' 'abetted' 'abhay' 'abhorrent' 'abiding'\n",
      " 'abilities' 'ability' 'able' 'ably' 'aboard' 'abominable' 'abomination'\n",
      " 'aboriginal' 'aborted' 'abortion' 'abound' 'abraham' 'abrasive' 'abroad'\n",
      " 'abrupt' 'abruptly' 'absence' 'absent' 'absolute' 'absolutely' 'absorb'\n",
      " 'absorbed' 'absorbing' 'abstract' 'absurd' 'absurdist' 'absurdity'\n",
      " 'absurdly' 'abu' 'abundance' 'abundant' 'abuse' 'abused' 'abusing'\n",
      " 'abusive' 'abysmal' 'abysmally' 'abyss' 'academic' 'academy' 'accent'\n",
      " 'accented' 'accents' 'accept']...\n",
      "Features, count:  16058\n"
     ]
    }
   ],
   "source": [
    "'''\n",
    "TF-IDF Vectorization\n",
    "'''\n",
    "\n",
    "# Instantiate TF-IDF vectorizer\n",
    "vectorizer = TfidfVectorizer( \\\n",
    "                            lowercase = True,       # convert to lowercase\n",
    "                            stop_words = 'english', # remove stop words\n",
    "                            ngram_range = (1,1),    # use unigrams  / (1,2) yields unigrams and brigrams\n",
    "                            min_df = 10,            # vocab based on tokens that have doc freq of 1 \n",
    "                            use_idf = True)         # use idf\n",
    "  \n",
    "print(f'vectorizer: {vectorizer}')\n",
    "\n",
    "# DESIGN DECISIONS\n",
    "# There are many design decisions (hyperparameters) associated with TF-IDF vectorization\n",
    "# Above, the defined parameters include casing, stopwords, n-gram range, and minimum document frequency. \n",
    "# The TfidfVectorizer has many more input parameters, which will remain at the default values\n",
    "\n",
    "# \"Train\"/fit \n",
    "# Note - X is a spare matrix\n",
    "vectorizer.fit(X_train)\n",
    "\n",
    "# Feature names\n",
    "print('') \n",
    "print(f'Features, first K: \\n{vectorizer.get_feature_names_out()[:300]}...')\n",
    "print(f'Features, count:  {len(vectorizer.get_feature_names_out())}')"
   ]
  },
  {
   "cell_type": "code",
   "execution_count": 47,
   "id": "23eaaced-f31d-42b3-bce8-21d4056d8ddc",
   "metadata": {},
   "outputs": [
    {
     "name": "stdout",
     "output_type": "stream",
     "text": [
      "\n",
      "X_train_features, values   (0, 15948)\t0.08182751213103681\n",
      "  (0, 15885)\t0.10366197240926348\n",
      "  (0, 15376)\t0.11218635355224887\n",
      "  (0, 15281)\t0.0819492846521501\n",
      "  (0, 15240)\t0.10693134619456152\n",
      "  (0, 15237)\t0.0633881410523613\n",
      "  (0, 15111)\t0.10904415031059436\n",
      "  (0, 14916)\t0.05861024765621386\n",
      "  (0, 14864)\t0.10571330235105018\n",
      "  (0, 14561)\t0.05361270619921552\n",
      "  (0, 14481)\t0.052840119636641245\n",
      "  (0, 14223)\t0.05978636015098552\n",
      "  (0, 13943)\t0.10805071015472513\n",
      "  (0, 13888)\t0.06558896854326228\n",
      "  (0, 13824)\t0.10711279919285971\n",
      "  (0, 13753)\t0.12483783953690916\n",
      "  (0, 13456)\t0.13272649272000175\n",
      "  (0, 13102)\t0.10018618959817696\n",
      "  (0, 13034)\t0.06226703765764215\n",
      "  (0, 12895)\t0.0886734281141842\n",
      "  (0, 12752)\t0.10824474975944005\n",
      "  (0, 12719)\t0.07833486190586711\n",
      "  (0, 12571)\t0.07921134659631705\n",
      "  (0, 12507)\t0.04783988774792668\n",
      "  (0, 12469)\t0.04631508479971144\n",
      "  :\t:\n",
      "  (19999, 9949)\t0.18561930659142836\n",
      "  (19999, 9784)\t0.09501074042469485\n",
      "  (19999, 9514)\t0.11552689143313426\n",
      "  (19999, 8813)\t0.09265480569128463\n",
      "  (19999, 8414)\t0.16014084851831367\n",
      "  (19999, 8329)\t0.1049195865221543\n",
      "  (19999, 8281)\t0.10696067930827526\n",
      "  (19999, 7692)\t0.18499719361686012\n",
      "  (19999, 7640)\t0.08405191071430254\n",
      "  (19999, 7126)\t0.14509700626392033\n",
      "  (19999, 6603)\t0.2843012967001035\n",
      "  (19999, 6363)\t0.20169080448800458\n",
      "  (19999, 5534)\t0.11484027290489571\n",
      "  (19999, 5070)\t0.08776806576356931\n",
      "  (19999, 4931)\t0.14032467193745976\n",
      "  (19999, 4588)\t0.18154988854143206\n",
      "  (19999, 4312)\t0.19944448056655956\n",
      "  (19999, 4270)\t0.18154988854143206\n",
      "  (19999, 4206)\t0.152692563914628\n",
      "  (19999, 4121)\t0.10136195461568515\n",
      "  (19999, 3887)\t0.20547558416208572\n",
      "  (19999, 2472)\t0.13391578515958305\n",
      "  (19999, 1843)\t0.15859205578993646\n",
      "  (19999, 1319)\t0.13705498794335041\n",
      "  (19999, 549)\t0.18561930659142836\n",
      "X_train_features, shape  (20000, 16058)\n"
     ]
    }
   ],
   "source": [
    "# Get overservations (text) as TF-IDF features\n",
    "X_train_features = vectorizer.transform(X_train)\n",
    "print('')\n",
    "print('X_train_features, values', X_train_features)\n",
    "print('X_train_features, shape ', X_train_features.shape)\n"
   ]
  },
  {
   "cell_type": "code",
   "execution_count": 48,
   "id": "1f57f5a9-fae0-4137-9804-5497946725c3",
   "metadata": {},
   "outputs": [
    {
     "name": "stdout",
     "output_type": "stream",
     "text": [
      "Classifier: RandomForestClassifier(class_weight='balanced', max_depth=10)\n",
      "Training started...\n",
      "Traininig complete\n"
     ]
    }
   ],
   "source": [
    "'''\n",
    "Model creation and training\n",
    "'''\n",
    "\n",
    "# Instantiate classifier\n",
    "classifier = RandomForestClassifier( \\\n",
    "                                    n_estimators = 100,\n",
    "                                    max_depth = 10, \n",
    "                                    class_weight = 'balanced'\n",
    "                                    )\n",
    "print(f'Classifier: {classifier}')\n",
    "\n",
    "# DESIGN DECISIONS\n",
    "# Each classification architecture and each implementation of that architecture will have a range of hyperparameters.\n",
    "# The RandomForestClassifier eample above, sets the number of estimators, maximum depth, and class weighting.\n",
    "# The RandomForestClassifier has many more input parameters that define the model architecture.\n",
    "# Only a small portion of these parameters need to be tuned (experimented with) to achieve optimal performance.\n",
    "# Typically, parameters related to model regularization need to be tuned to prevent over fitting.\n",
    "# In the example above, the most important parameter for tuning is the maximum depth, as this is related to overfitting.\n",
    "\n",
    "# Train (fit) classifier to training data\n",
    "print(f'Training started...')\n",
    "classifier.fit(X=X_train_features, y=y_train)\n",
    "print(f'Traininig complete')"
   ]
  },
  {
   "cell_type": "code",
   "execution_count": 21,
   "id": "bf9a4712-7978-419c-abbd-906effd24e58",
   "metadata": {},
   "outputs": [
    {
     "data": {
      "image/png": "[encoded data removed]",
      "text/plain": [
       "<Figure size 1000x1000 with 1 Axes>"
      ]
     },
     "metadata": {},
     "output_type": "display_data"
    }
   ],
   "source": [
    "\n",
    "feat_importances = pd.Series(classifier.feature_importances_, index=vectorizer.get_feature_names_out())\n",
    "feat_importances.nlargest(20).plot(kind='bar',figsize=(10,10))\n",
    "plt.title(\"Top 20 important features\")\n",
    "plt.show()"
   ]
  },
  {
   "cell_type": "code",
   "execution_count": 50,
   "id": "c89b8803",
   "metadata": {},
   "outputs": [
    {
     "name": "stdout",
     "output_type": "stream",
     "text": [
      "Predictions: [1 1 1 ... 0 0 0]\n",
      "Classification report: \n",
      "              precision    recall  f1-score   support\n",
      "\n",
      "           0       0.90      0.81      0.85     12500\n",
      "           1       0.83      0.91      0.87     12500\n",
      "\n",
      "    accuracy                           0.86     25000\n",
      "   macro avg       0.86      0.86      0.86     25000\n",
      "weighted avg       0.86      0.86      0.86     25000\n",
      "\n",
      "Classification report: \n",
      "{'0': {'precision': 0.8978670678821135, 'recall': 0.8116, 'f1-score': 0.8525568301189126, 'support': 12500}, '1': {'precision': 0.8281147361506459, 'recall': 0.90768, 'f1-score': 0.8660738139765658, 'support': 12500}, 'accuracy': 0.85964, 'macro avg': {'precision': 0.8629909020163797, 'recall': 0.85964, 'f1-score': 0.8593153220477392, 'support': 25000}, 'weighted avg': {'precision': 0.8629909020163797, 'recall': 0.85964, 'f1-score': 0.8593153220477392, 'support': 25000}}\n"
     ]
    }
   ],
   "source": [
    "#Performance on test set \n",
    "\n",
    "\n",
    "'''\n",
    "Test set  evaluation\n",
    "'''\n",
    "\n",
    "# Evaluation classifier\n",
    "X_test_features = vectorizer.transform(X_test)\n",
    "y_predict = classifier.predict(X_test_features)\n",
    "print(f'Predictions: {y_predict}')\n",
    "\n",
    "\n",
    "report = classification_report(y_test, y_predict)\n",
    "print(f'Classification report: \\n{report}')\n",
    "\n",
    "report = classification_report(y_test, y_predict, output_dict=True)\n",
    "print(f'Classification report: \\n{report}')\n"
   ]
  },
  {
   "cell_type": "markdown",
   "id": "2d9f15c4",
   "metadata": {},
   "source": [
    "### Tuning Model Hyperparameters"
   ]
  },
  {
   "cell_type": "code",
   "execution_count": 51,
   "id": "3bc6c46b-d724-4589-a999-3a0e1b7a71b3",
   "metadata": {},
   "outputs": [
    {
     "name": "stdout",
     "output_type": "stream",
     "text": [
      "Parameters currently in use:\n",
      "\n",
      "{'bootstrap': True,\n",
      " 'ccp_alpha': 0.0,\n",
      " 'class_weight': None,\n",
      " 'criterion': 'gini',\n",
      " 'max_depth': None,\n",
      " 'max_features': 'sqrt',\n",
      " 'max_leaf_nodes': None,\n",
      " 'max_samples': None,\n",
      " 'min_impurity_decrease': 0.0,\n",
      " 'min_samples_leaf': 1,\n",
      " 'min_samples_split': 2,\n",
      " 'min_weight_fraction_leaf': 0.0,\n",
      " 'n_estimators': 100,\n",
      " 'n_jobs': None,\n",
      " 'oob_score': False,\n",
      " 'random_state': 42,\n",
      " 'verbose': 0,\n",
      " 'warm_start': False}\n",
      "\n",
      " Random Grid \n",
      "\n",
      "{'max_depth': [10, 20, 30, 40, 50, 60, 70, 80, 90, 100, 110, None],\n",
      " 'n_estimators': [50, 133, 216, 300, 383, 466, 550, 633, 716, 800]}\n",
      "Training started...\n",
      "Fitting 3 folds for each of 10 candidates, totalling 30 fits\n",
      "Traininig complete\n"
     ]
    }
   ],
   "source": [
    "'''\n",
    "Model tuning\n",
    "'''\n",
    "\n",
    "# Experimentation is needed to determine the best model configuration.\n",
    "# Models with different configurations should be trained on the training set and evaluated on the validation set.\n",
    "# Once the best-performing configuration is identified, this best model may be applied to the test set to determine the final performance.\n",
    "\n",
    "# Below is a summary of possible parameters from the above example that could be tuned:\n",
    "# TF-IDF\n",
    "#    minimum document frequency\n",
    "#    n-gram order\n",
    "# RandomForestClassifier\n",
    "#    number of estimators\n",
    "#    maximum depth (very important)\n",
    "#    class weighting\n",
    "\n",
    "# sklearn house tools to assist with parameter tuning, like grid search: https://scikit-learn.org/stable/modules/generated/sklearn.model_selection.GridSearchCV.html\n",
    "\n",
    "\n",
    "'''\n",
    "We use a validation set for hypterparameter tuning because simply relying on the training set leads to a well known\n",
    "supervised learning problem - overfitting. The model learns the training set very well but is not suitable for new\n",
    "data. \n",
    "\n",
    "We'll be using K-fold cross validation. This can be automatically implemented in Scikit-Learn. \n",
    "\n",
    "Using Scikit-Learn’s RandomizedSearchCV method, we can define a grid of hyperparameter ranges, and randomly sample \n",
    "from the grid, performing K-Fold CV with each combination of values.\n",
    "'''\n",
    "\n",
    "# A list of all possible RandomFoestClassifier hyperparameters that can be tuned.\n",
    "rf = RandomForestClassifier(random_state = 42)\n",
    "from pprint import pprint\n",
    "# Look at parameters used by our current forest\n",
    "print('Parameters currently in use:\\n')\n",
    "pprint(rf.get_params())\n",
    "\n",
    "''' \n",
    "As a starter, we can begin by tuning 2 parameters: \n",
    "    1. n_estimators: Number of trees in the random forest \n",
    "    2. max_depth: maximum levels in the tree\n",
    "'''\n",
    "\n",
    "#Setting a range of values that the hyperparameters can take\n",
    "# Number of trees in random forest\n",
    "n_estimators = [int(x) for x in np.linspace(start = 50, stop = 800, num = 10)]\n",
    "\n",
    "# Maximum number of levels in tree\n",
    "max_depth = [int(x) for x in np.linspace(10, 110, num = 11)]\n",
    "max_depth.append(None) #leaving maximum depth unconstrained\n",
    "\n",
    "# Create the random grid\n",
    "random_grid = {'n_estimators': n_estimators,\n",
    "               'max_depth': max_depth}\n",
    "\n",
    "#printing the grid of parameter values\n",
    "print('\\n Random Grid \\n')\n",
    "pprint(random_grid)\n",
    "\n",
    "\n",
    "\n",
    "# Use the random grid to search for best hyperparameters\n",
    "# First create the base model to tune\n",
    "classifier = RandomForestClassifier()\n",
    "# Random search of parameters, using 3 fold cross validation, \n",
    "# search across 10 different combinations, and use all available cores\n",
    "rf_random = RandomizedSearchCV(estimator = classifier, param_distributions = random_grid, n_iter = 10, cv = 3, verbose=2, random_state=42, n_jobs = -1)\n",
    "# Fit the random search model\n",
    "print(f'Training started...')\n",
    "rf_random.fit(X=X_valid_features, y=y_valid)\n",
    "print(f'Traininig complete')"
   ]
  },
  {
   "cell_type": "code",
   "execution_count": 52,
   "id": "c845d42c",
   "metadata": {},
   "outputs": [
    {
     "name": "stdout",
     "output_type": "stream",
     "text": [
      "Best Model Parameters: \n",
      "\n",
      "{'max_depth': 50, 'n_estimators': 633}\n",
      "[CV] END .....................max_depth=50, n_estimators=633; total time=  11.0s\n",
      "[CV] END .....................max_depth=70, n_estimators=383; total time=   7.5s\n",
      "[CV] END .....................max_depth=10, n_estimators=383; total time=   2.0s\n",
      "[CV] END .....................max_depth=60, n_estimators=466; total time=   8.7s\n",
      "[CV] END .....................max_depth=30, n_estimators=550; total time=   7.0s\n",
      "[CV] END ......................max_depth=50, n_estimators=50; total time=   0.9s\n",
      "[CV] END .....................max_depth=10, n_estimators=383; total time=   1.9s\n",
      "[CV] END .....................max_depth=10, n_estimators=383; total time=   1.9s\n",
      "[CV] END .....................max_depth=60, n_estimators=466; total time=   8.6s\n",
      "[CV] END .....................max_depth=80, n_estimators=300; total time=   6.1s\n",
      "[CV] END .....................max_depth=50, n_estimators=383; total time=   6.7s\n",
      "[CV] END .....................max_depth=30, n_estimators=550; total time=   6.9s\n",
      "[CV] END .....................max_depth=80, n_estimators=300; total time=   5.9s\n",
      "[CV] END .....................max_depth=50, n_estimators=383; total time=   6.6s\n",
      "[CV] END .....................max_depth=30, n_estimators=550; total time=   7.0s\n",
      "[CV] END .....................max_depth=80, n_estimators=300; total time=   5.8s\n",
      "[CV] END .....................max_depth=50, n_estimators=633; total time=  10.9s\n",
      "[CV] END .....................max_depth=70, n_estimators=383; total time=   7.6s\n",
      "[CV] END ....................max_depth=110, n_estimators=633; total time=   9.1s\n",
      "[CV] END .....................max_depth=50, n_estimators=633; total time=  10.9s\n",
      "[CV] END .....................max_depth=70, n_estimators=383; total time=   7.5s\n",
      "[CV] END ....................max_depth=110, n_estimators=633; total time=   9.2s\n",
      "[CV] END .....................max_depth=50, n_estimators=383; total time=   6.7s\n",
      "[CV] END .....................max_depth=60, n_estimators=466; total time=   8.5s\n",
      "[CV] END ......................max_depth=20, n_estimators=50; total time=   0.5s\n",
      "[CV] END ......................max_depth=20, n_estimators=50; total time=   0.5s\n",
      "[CV] END ......................max_depth=20, n_estimators=50; total time=   0.5s\n",
      "[CV] END ......................max_depth=50, n_estimators=50; total time=   0.9s\n",
      "[CV] END ......................max_depth=50, n_estimators=50; total time=   0.9s\n",
      "[CV] END ....................max_depth=110, n_estimators=633; total time=   9.4s\n"
     ]
    }
   ],
   "source": [
    "#best model parameters\n",
    "print('Best Model Parameters: \\n')\n",
    "pprint(rf_random.best_params_)"
   ]
  },
  {
   "cell_type": "code",
   "execution_count": 53,
   "id": "9c9fc07e",
   "metadata": {},
   "outputs": [
    {
     "name": "stdout",
     "output_type": "stream",
     "text": [
      "Classifier: RandomForestClassifier(class_weight='balanced', max_depth=50, n_estimators=633)\n",
      "Training started...\n",
      "Traininig complete\n"
     ]
    }
   ],
   "source": [
    "#Re-training the RF model with tuned parameters obtained through RandomizedSearchCV\n",
    "\n",
    "# Instantiate classifier\n",
    "classifier = RandomForestClassifier( \\\n",
    "                                    n_estimators = 633,\n",
    "                                    max_depth = 50, \n",
    "                                    class_weight = 'balanced'\n",
    "                                    )\n",
    "print(f'Classifier: {classifier}')\n",
    "\n",
    "\n",
    "# Train (fit) classifier to training data\n",
    "print(f'Training started...')\n",
    "classifier.fit(X=X_train_features, y=y_train)\n",
    "print(f'Traininig complete')"
   ]
  },
  {
   "cell_type": "code",
   "execution_count": 56,
   "id": "b06a9d4b",
   "metadata": {},
   "outputs": [
    {
     "name": "stdout",
     "output_type": "stream",
     "text": [
      "Predictions: [1 1 1 ... 0 0 0]\n",
      "Classification report: \n",
      "              precision    recall  f1-score   support\n",
      "\n",
      "           0       0.97      0.96      0.96     12500\n",
      "           1       0.96      0.97      0.96     12500\n",
      "\n",
      "    accuracy                           0.96     25000\n",
      "   macro avg       0.96      0.96      0.96     25000\n",
      "weighted avg       0.96      0.96      0.96     25000\n",
      "\n",
      "Classification report: \n",
      "\n",
      "{'0': {'f1-score': 0.962014098690836,\n",
      "       'precision': 0.968843813387424,\n",
      "       'recall': 0.95528,\n",
      "       'support': 12500},\n",
      " '1': {'f1-score': 0.9625422045680239,\n",
      "       'precision': 0.9558974358974359,\n",
      "       'recall': 0.96928,\n",
      "       'support': 12500},\n",
      " 'accuracy': 0.96228,\n",
      " 'macro avg': {'f1-score': 0.9622781516294299,\n",
      "               'precision': 0.96237062464243,\n",
      "               'recall': 0.96228,\n",
      "               'support': 25000},\n",
      " 'weighted avg': {'f1-score': 0.9622781516294299,\n",
      "                  'precision': 0.9623706246424301,\n",
      "                  'recall': 0.96228,\n",
      "                  'support': 25000}}\n"
     ]
    }
   ],
   "source": [
    "#Performance of tuned model on test set \n",
    "\n",
    "\n",
    "'''\n",
    "Test set  evaluation\n",
    "'''\n",
    "\n",
    "# Evaluation classifier\n",
    "X_test_features = vectorizer.transform(X_test)\n",
    "y_predict = classifier.predict(X_test_features)\n",
    "print(f'Predictions: {y_predict}')\n",
    "\n",
    "\n",
    "report = classification_report(y_test, y_predict)\n",
    "print(f'Classification report: \\n{report}')\n",
    "\n",
    "report = classification_report(y_test, y_predict, output_dict=True)\n",
    "print('Classification report: \\n')\n",
    "pprint(report)\n"
   ]
  },
  {
   "cell_type": "code",
   "execution_count": 57,
   "id": "13b9b7e1",
   "metadata": {},
   "outputs": [
    {
     "data": {
      "text/plain": [
       "'\\nAfter tuning parameters, we are able to obtain a 10% lift in accuracy on the test set. \\n\\n'"
      ]
     },
     "execution_count": 57,
     "metadata": {},
     "output_type": "execute_result"
    }
   ],
   "source": [
    "'''\n",
    "After tuning parameters, we are able to obtain a 10% lift in accuracy on the test set. \n",
    "\n",
    "'''"
   ]
  },
  {
   "cell_type": "code",
   "execution_count": 58,
   "id": "800232f2",
   "metadata": {},
   "outputs": [
    {
     "data": {
      "image/png": "[encoded data removed]",
      "text/plain": [
       "<Figure size 1000x1000 with 1 Axes>"
      ]
     },
     "metadata": {},
     "output_type": "display_data"
    }
   ],
   "source": [
    "\n",
    "feat_importances = pd.Series(classifier.feature_importances_, index=vectorizer.get_feature_names_out())\n",
    "feat_importances.nlargest(20).plot(kind='bar',figsize=(10,10))\n",
    "plt.title(\"Top 20 important features\")\n",
    "plt.show()\n",
    "\n",
    "\n",
    "#There is a slight change in the features that are important in the model. "
   ]
  },
  {
   "cell_type": "code",
   "execution_count": null,
   "id": "48abbaea-018a-4dfa-a129-d63cb3a4f691",
   "metadata": {},
   "outputs": [],
   "source": [
    "'''\n",
    "Model architectures\n",
    "'''\n",
    "\n",
    "# sklearn has many different classification architectures that could be relatively easily integrated into this pipeline.\n",
    "# Below are a few examples:\n",
    "# Logistic regression/maximum entropy – https://scikit-learn.org/stable/modules/generated/sklearn.linear_model.LogisticRegression.html\n",
    "# Support Vector Machines - https://scikit-learn.org/stable/modules/generated/sklearn.svm.SVC.html\n",
    "# Multilayer perceptron (neural network) - https://scikit-lean.org/stable/modules/neural_networks_supervised.html\n",
    "\n",
    "# Each of these architectures and implementations through sklearn will have different parameters that must be selected/tuned."
   ]
  },
  {
   "cell_type": "code",
   "execution_count": 59,
   "id": "785c1e5b",
   "metadata": {},
   "outputs": [],
   "source": [
    "#As an example, we can implement a logistic regression model as well. "
   ]
  },
  {
   "cell_type": "code",
   "execution_count": 105,
   "id": "e5710642",
   "metadata": {},
   "outputs": [
    {
     "data": {
      "text/html": [
       "<style>#sk-container-id-17 {color: black;background-color: white;}#sk-container-id-17 pre{padding: 0;}#sk-container-id-17 div.sk-toggleable {background-color: white;}#sk-container-id-17 label.sk-toggleable__label {cursor: pointer;display: block;width: 100%;margin-bottom: 0;padding: 0.3em;box-sizing: border-box;text-align: center;}#sk-container-id-17 label.sk-toggleable__label-arrow:before {content: \"▸\";float: left;margin-right: 0.25em;color: #696969;}#sk-container-id-17 label.sk-toggleable__label-arrow:hover:before {color: black;}#sk-container-id-17 div.sk-estimator:hover label.sk-toggleable__label-arrow:before {color: black;}#sk-container-id-17 div.sk-toggleable__content {max-height: 0;max-width: 0;overflow: hidden;text-align: left;background-color: #f0f8ff;}#sk-container-id-17 div.sk-toggleable__content pre {margin: 0.2em;color: black;border-radius: 0.25em;background-color: #f0f8ff;}#sk-container-id-17 input.sk-toggleable__control:checked~div.sk-toggleable__content {max-height: 200px;max-width: 100%;overflow: auto;}#sk-container-id-17 input.sk-toggleable__control:checked~label.sk-toggleable__label-arrow:before {content: \"▾\";}#sk-container-id-17 div.sk-estimator input.sk-toggleable__control:checked~label.sk-toggleable__label {background-color: #d4ebff;}#sk-container-id-17 div.sk-label input.sk-toggleable__control:checked~label.sk-toggleable__label {background-color: #d4ebff;}#sk-container-id-17 input.sk-hidden--visually {border: 0;clip: rect(1px 1px 1px 1px);clip: rect(1px, 1px, 1px, 1px);height: 1px;margin: -1px;overflow: hidden;padding: 0;position: absolute;width: 1px;}#sk-container-id-17 div.sk-estimator {font-family: monospace;background-color: #f0f8ff;border: 1px dotted black;border-radius: 0.25em;box-sizing: border-box;margin-bottom: 0.5em;}#sk-container-id-17 div.sk-estimator:hover {background-color: #d4ebff;}#sk-container-id-17 div.sk-parallel-item::after {content: \"\";width: 100%;border-bottom: 1px solid gray;flex-grow: 1;}#sk-container-id-17 div.sk-label:hover label.sk-toggleable__label {background-color: #d4ebff;}#sk-container-id-17 div.sk-serial::before {content: \"\";position: absolute;border-left: 1px solid gray;box-sizing: border-box;top: 0;bottom: 0;left: 50%;z-index: 0;}#sk-container-id-17 div.sk-serial {display: flex;flex-direction: column;align-items: center;background-color: white;padding-right: 0.2em;padding-left: 0.2em;position: relative;}#sk-container-id-17 div.sk-item {position: relative;z-index: 1;}#sk-container-id-17 div.sk-parallel {display: flex;align-items: stretch;justify-content: center;background-color: white;position: relative;}#sk-container-id-17 div.sk-item::before, #sk-container-id-17 div.sk-parallel-item::before {content: \"\";position: absolute;border-left: 1px solid gray;box-sizing: border-box;top: 0;bottom: 0;left: 50%;z-index: -1;}#sk-container-id-17 div.sk-parallel-item {display: flex;flex-direction: column;z-index: 1;position: relative;background-color: white;}#sk-container-id-17 div.sk-parallel-item:first-child::after {align-self: flex-end;width: 50%;}#sk-container-id-17 div.sk-parallel-item:last-child::after {align-self: flex-start;width: 50%;}#sk-container-id-17 div.sk-parallel-item:only-child::after {width: 0;}#sk-container-id-17 div.sk-dashed-wrapped {border: 1px dashed gray;margin: 0 0.4em 0.5em 0.4em;box-sizing: border-box;padding-bottom: 0.4em;background-color: white;}#sk-container-id-17 div.sk-label label {font-family: monospace;font-weight: bold;display: inline-block;line-height: 1.2em;}#sk-container-id-17 div.sk-label-container {text-align: center;}#sk-container-id-17 div.sk-container {/* jupyter's `normalize.less` sets `[hidden] { display: none; }` but bootstrap.min.css set `[hidden] { display: none !important; }` so we also need the `!important` here to be able to override the default hidden behavior on the sphinx rendered scikit-learn.org. See: https://github.com/scikit-learn/scikit-learn/issues/21755 */display: inline-block !important;position: relative;}#sk-container-id-17 div.sk-text-repr-fallback {display: none;}</style><div id=\"sk-container-id-17\" class=\"sk-top-container\"><div class=\"sk-text-repr-fallback\"><pre>LogisticRegression(C=0.01, random_state=1)</pre><b>In a Jupyter environment, please rerun this cell to show the HTML representation or trust the notebook. <br />On GitHub, the HTML representation is unable to render, please try loading this page with nbviewer.org.</b></div><div class=\"sk-container\" hidden><div class=\"sk-item\"><div class=\"sk-estimator sk-toggleable\"><input class=\"sk-toggleable__control sk-hidden--visually\" id=\"sk-estimator-id-35\" type=\"checkbox\" checked><label for=\"sk-estimator-id-35\" class=\"sk-toggleable__label sk-toggleable__label-arrow\">LogisticRegression</label><div class=\"sk-toggleable__content\"><pre>LogisticRegression(C=0.01, random_state=1)</pre></div></div></div></div></div>"
      ],
      "text/plain": [
       "LogisticRegression(C=0.01, random_state=1)"
      ]
     },
     "execution_count": 105,
     "metadata": {},
     "output_type": "execute_result"
    }
   ],
   "source": [
    "# define logistic regression model\n",
    "estimator = LogisticRegression(\n",
    "    random_state = 1,\n",
    "    penalty = 'l2', \n",
    "    C = 0.01\n",
    ")\n",
    "estimator.fit(X=X_train_features, y=y_train)"
   ]
  },
  {
   "cell_type": "code",
   "execution_count": 106,
   "id": "f71ca164",
   "metadata": {},
   "outputs": [
    {
     "name": "stdout",
     "output_type": "stream",
     "text": [
      "Predictions: [1 1 1 ... 0 0 1]\n",
      "Classification report: \n",
      "              precision    recall  f1-score   support\n",
      "\n",
      "           0       0.84      0.77      0.80     12500\n",
      "           1       0.79      0.85      0.82     12500\n",
      "\n",
      "    accuracy                           0.81     25000\n",
      "   macro avg       0.81      0.81      0.81     25000\n",
      "weighted avg       0.81      0.81      0.81     25000\n",
      "\n"
     ]
    }
   ],
   "source": [
    "#Performance of base model on test set \n",
    "\n",
    "'''\n",
    "Test set  evaluation on base logistic regression model\n",
    "'''\n",
    "\n",
    "# Evaluation classifier\n",
    "y_predict = estimator.predict(X_test_features)\n",
    "print(f'Predictions: {y_predict}')\n",
    "\n",
    "\n",
    "report = classification_report(y_test, y_predict)\n",
    "print(f'Classification report: \\n{report}')"
   ]
  },
  {
   "cell_type": "code",
   "execution_count": 107,
   "id": "56a68f94",
   "metadata": {},
   "outputs": [
    {
     "name": "stdout",
     "output_type": "stream",
     "text": [
      "Fitting 5 folds for each of 100 candidates, totalling 500 fits\n",
      "\n",
      " Best HyperParameters: \n",
      "\n"
     ]
    },
    {
     "data": {
      "text/plain": [
       "{'solver': 'liblinear',\n",
       " 'penalty': 'l2',\n",
       " 'max_iter': 201,\n",
       " 'C': 0.8400000000000001}"
      ]
     },
     "execution_count": 107,
     "metadata": {},
     "output_type": "execute_result"
    }
   ],
   "source": [
    "#Defining the random grid for RandomizedSearchCV\n",
    "\n",
    "'''\n",
    "The following parameters will be tuned: \n",
    "penalty - L1, L2\n",
    "C - Inverse of regularization strength [smaller values represent stronger regularization]\n",
    "\n",
    "There is only one solver in the parameters, therefore it is not being tuned\n",
    "'''\n",
    "\n",
    "\n",
    "#Defining ranges and possible values \n",
    "max_iter = range(100, 500)\n",
    "solver = ['liblinear'] #liblinear supports both L1 and L2 regularization, other engines are selective\n",
    "penalty = ['l1', 'l2']\n",
    "C = np.arange(0.01, 1, 0.01)\n",
    "\n",
    "#defining the grid\n",
    "random_grid ={\n",
    "    'max_iter' : max_iter,\n",
    "    'penalty' : penalty,\n",
    "    'solver' : solver,\n",
    "    'C' : C,\n",
    "}\n",
    "\n",
    "#tuning hyperparameters to find best parameters \n",
    "\n",
    "random_estimator = RandomizedSearchCV(estimator = estimator,\n",
    "                                   param_distributions = random_grid,\n",
    "                                   n_iter = 100,\n",
    "                                   scoring = 'accuracy',\n",
    "                                   n_jobs = -1,\n",
    "                                   verbose = 1, \n",
    "                                   random_state = 1,\n",
    "                                  )\n",
    "#fitting on validation set\n",
    "random_estimator.fit(X=X_valid_features, y=y_valid)\n",
    "\n",
    "\n",
    "#best hyperparameters obtained through RandomizedSearchCV\n",
    "\n",
    "print('\\n Best HyperParameters: \\n')\n",
    "random_estimator.best_params_"
   ]
  },
  {
   "cell_type": "code",
   "execution_count": 103,
   "id": "b1c2cec0",
   "metadata": {},
   "outputs": [
    {
     "data": {
      "text/html": [
       "<style>#sk-container-id-16 {color: black;background-color: white;}#sk-container-id-16 pre{padding: 0;}#sk-container-id-16 div.sk-toggleable {background-color: white;}#sk-container-id-16 label.sk-toggleable__label {cursor: pointer;display: block;width: 100%;margin-bottom: 0;padding: 0.3em;box-sizing: border-box;text-align: center;}#sk-container-id-16 label.sk-toggleable__label-arrow:before {content: \"▸\";float: left;margin-right: 0.25em;color: #696969;}#sk-container-id-16 label.sk-toggleable__label-arrow:hover:before {color: black;}#sk-container-id-16 div.sk-estimator:hover label.sk-toggleable__label-arrow:before {color: black;}#sk-container-id-16 div.sk-toggleable__content {max-height: 0;max-width: 0;overflow: hidden;text-align: left;background-color: #f0f8ff;}#sk-container-id-16 div.sk-toggleable__content pre {margin: 0.2em;color: black;border-radius: 0.25em;background-color: #f0f8ff;}#sk-container-id-16 input.sk-toggleable__control:checked~div.sk-toggleable__content {max-height: 200px;max-width: 100%;overflow: auto;}#sk-container-id-16 input.sk-toggleable__control:checked~label.sk-toggleable__label-arrow:before {content: \"▾\";}#sk-container-id-16 div.sk-estimator input.sk-toggleable__control:checked~label.sk-toggleable__label {background-color: #d4ebff;}#sk-container-id-16 div.sk-label input.sk-toggleable__control:checked~label.sk-toggleable__label {background-color: #d4ebff;}#sk-container-id-16 input.sk-hidden--visually {border: 0;clip: rect(1px 1px 1px 1px);clip: rect(1px, 1px, 1px, 1px);height: 1px;margin: -1px;overflow: hidden;padding: 0;position: absolute;width: 1px;}#sk-container-id-16 div.sk-estimator {font-family: monospace;background-color: #f0f8ff;border: 1px dotted black;border-radius: 0.25em;box-sizing: border-box;margin-bottom: 0.5em;}#sk-container-id-16 div.sk-estimator:hover {background-color: #d4ebff;}#sk-container-id-16 div.sk-parallel-item::after {content: \"\";width: 100%;border-bottom: 1px solid gray;flex-grow: 1;}#sk-container-id-16 div.sk-label:hover label.sk-toggleable__label {background-color: #d4ebff;}#sk-container-id-16 div.sk-serial::before {content: \"\";position: absolute;border-left: 1px solid gray;box-sizing: border-box;top: 0;bottom: 0;left: 50%;z-index: 0;}#sk-container-id-16 div.sk-serial {display: flex;flex-direction: column;align-items: center;background-color: white;padding-right: 0.2em;padding-left: 0.2em;position: relative;}#sk-container-id-16 div.sk-item {position: relative;z-index: 1;}#sk-container-id-16 div.sk-parallel {display: flex;align-items: stretch;justify-content: center;background-color: white;position: relative;}#sk-container-id-16 div.sk-item::before, #sk-container-id-16 div.sk-parallel-item::before {content: \"\";position: absolute;border-left: 1px solid gray;box-sizing: border-box;top: 0;bottom: 0;left: 50%;z-index: -1;}#sk-container-id-16 div.sk-parallel-item {display: flex;flex-direction: column;z-index: 1;position: relative;background-color: white;}#sk-container-id-16 div.sk-parallel-item:first-child::after {align-self: flex-end;width: 50%;}#sk-container-id-16 div.sk-parallel-item:last-child::after {align-self: flex-start;width: 50%;}#sk-container-id-16 div.sk-parallel-item:only-child::after {width: 0;}#sk-container-id-16 div.sk-dashed-wrapped {border: 1px dashed gray;margin: 0 0.4em 0.5em 0.4em;box-sizing: border-box;padding-bottom: 0.4em;background-color: white;}#sk-container-id-16 div.sk-label label {font-family: monospace;font-weight: bold;display: inline-block;line-height: 1.2em;}#sk-container-id-16 div.sk-label-container {text-align: center;}#sk-container-id-16 div.sk-container {/* jupyter's `normalize.less` sets `[hidden] { display: none; }` but bootstrap.min.css set `[hidden] { display: none !important; }` so we also need the `!important` here to be able to override the default hidden behavior on the sphinx rendered scikit-learn.org. See: https://github.com/scikit-learn/scikit-learn/issues/21755 */display: inline-block !important;position: relative;}#sk-container-id-16 div.sk-text-repr-fallback {display: none;}</style><div id=\"sk-container-id-16\" class=\"sk-top-container\"><div class=\"sk-text-repr-fallback\"><pre>LogisticRegression(C=0.84, max_iter=201, random_state=1, solver=&#x27;liblinear&#x27;)</pre><b>In a Jupyter environment, please rerun this cell to show the HTML representation or trust the notebook. <br />On GitHub, the HTML representation is unable to render, please try loading this page with nbviewer.org.</b></div><div class=\"sk-container\" hidden><div class=\"sk-item\"><div class=\"sk-estimator sk-toggleable\"><input class=\"sk-toggleable__control sk-hidden--visually\" id=\"sk-estimator-id-34\" type=\"checkbox\" checked><label for=\"sk-estimator-id-34\" class=\"sk-toggleable__label sk-toggleable__label-arrow\">LogisticRegression</label><div class=\"sk-toggleable__content\"><pre>LogisticRegression(C=0.84, max_iter=201, random_state=1, solver=&#x27;liblinear&#x27;)</pre></div></div></div></div></div>"
      ],
      "text/plain": [
       "LogisticRegression(C=0.84, max_iter=201, random_state=1, solver='liblinear')"
      ]
     },
     "execution_count": 103,
     "metadata": {},
     "output_type": "execute_result"
    }
   ],
   "source": [
    "#re-fitting model with tuned hyperparameters\n",
    "\n",
    "\n",
    "# define logistic regression model\n",
    "estimator = LogisticRegression(\n",
    "    random_state = 1,\n",
    "    solver= 'liblinear',\n",
    "    penalty = 'l2', \n",
    "    C = 0.840,\n",
    "    max_iter = 201 \n",
    ")\n",
    "estimator.fit(X=X_train_features, y=y_train)"
   ]
  },
  {
   "cell_type": "code",
   "execution_count": 104,
   "id": "ae95a8bd",
   "metadata": {},
   "outputs": [
    {
     "name": "stdout",
     "output_type": "stream",
     "text": [
      "Predictions: [1 1 1 ... 0 0 0]\n",
      "Classification report: \n",
      "              precision    recall  f1-score   support\n",
      "\n",
      "           0       0.93      0.91      0.92     12500\n",
      "           1       0.91      0.93      0.92     12500\n",
      "\n",
      "    accuracy                           0.92     25000\n",
      "   macro avg       0.92      0.92      0.92     25000\n",
      "weighted avg       0.92      0.92      0.92     25000\n",
      "\n"
     ]
    }
   ],
   "source": [
    "#Performance of tuned model on test set \n",
    "\n",
    "'''\n",
    "Test set  evaluation on logistic regression model with tuned hyperparameters\n",
    "'''\n",
    "\n",
    "# Evaluation classifier\n",
    "y_predict = estimator.predict(X_test_features)\n",
    "print(f'Predictions: {y_predict}')\n",
    "\n",
    "\n",
    "report = classification_report(y_test, y_predict)\n",
    "print(f'Classification report: \\n{report}')"
   ]
  },
  {
   "cell_type": "code",
   "execution_count": null,
   "id": "692ba0da",
   "metadata": {},
   "outputs": [],
   "source": [
    "'''\n",
    "We have obtained an 11% lift through hyperparameter tuning in the logistic regression model. \n",
    "'''\n"
   ]
  },
  {
   "cell_type": "code",
   "execution_count": null,
   "id": "8b25f324",
   "metadata": {},
   "outputs": [],
   "source": []
  }
 ],
 "metadata": {
  "kernelspec": {
   "display_name": "Python 3 (ipykernel)",
   "language": "python",
   "name": "python3"
  },
  "language_info": {
   "codemirror_mode": {
    "name": "ipython",
    "version": 3
   },
   "file_extension": ".py",
   "mimetype": "text/x-python",
   "name": "python",
   "nbconvert_exporter": "python",
   "pygments_lexer": "ipython3",
   "version": "3.11.1"
  }
 },
 "nbformat": 4,
 "nbformat_minor": 5
}
